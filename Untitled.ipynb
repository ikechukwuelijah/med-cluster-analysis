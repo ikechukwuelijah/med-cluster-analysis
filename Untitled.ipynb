{
 "cells": [
  {
   "cell_type": "code",
   "execution_count": 57,
   "id": "8700c0ab",
   "metadata": {
    "scrolled": true
   },
   "outputs": [],
   "source": [
    "import pandas as pd\n",
    "import numpy as np\n",
    "import matplotlib.pyplot as plt\n",
    "import seaborn as sns"
   ]
  },
  {
   "cell_type": "code",
   "execution_count": 58,
   "id": "4a8a949a",
   "metadata": {},
   "outputs": [
    {
     "data": {
      "text/html": [
       "<div>\n",
       "<style scoped>\n",
       "    .dataframe tbody tr th:only-of-type {\n",
       "        vertical-align: middle;\n",
       "    }\n",
       "\n",
       "    .dataframe tbody tr th {\n",
       "        vertical-align: top;\n",
       "    }\n",
       "\n",
       "    .dataframe thead th {\n",
       "        text-align: right;\n",
       "    }\n",
       "</style>\n",
       "<table border=\"1\" class=\"dataframe\">\n",
       "  <thead>\n",
       "    <tr style=\"text-align: right;\">\n",
       "      <th></th>\n",
       "      <th>Name of sample</th>\n",
       "      <th>diamorphine</th>\n",
       "      <th>Caffeine</th>\n",
       "      <th>acetylcodeine</th>\n",
       "    </tr>\n",
       "  </thead>\n",
       "  <tbody>\n",
       "    <tr>\n",
       "      <th>0</th>\n",
       "      <td>KFS1A-B3</td>\n",
       "      <td>39.738208</td>\n",
       "      <td>10.554424</td>\n",
       "      <td>0.000000</td>\n",
       "    </tr>\n",
       "    <tr>\n",
       "      <th>1</th>\n",
       "      <td>KFS1B-B4</td>\n",
       "      <td>38.217061</td>\n",
       "      <td>10.101954</td>\n",
       "      <td>0.000000</td>\n",
       "    </tr>\n",
       "    <tr>\n",
       "      <th>2</th>\n",
       "      <td>KFS2A-A1</td>\n",
       "      <td>47.192481</td>\n",
       "      <td>0.000000</td>\n",
       "      <td>37.866534</td>\n",
       "    </tr>\n",
       "    <tr>\n",
       "      <th>3</th>\n",
       "      <td>KFS2B-A3</td>\n",
       "      <td>48.521546</td>\n",
       "      <td>0.000000</td>\n",
       "      <td>37.858052</td>\n",
       "    </tr>\n",
       "    <tr>\n",
       "      <th>4</th>\n",
       "      <td>KFS2C-A3</td>\n",
       "      <td>49.760126</td>\n",
       "      <td>0.000000</td>\n",
       "      <td>37.867248</td>\n",
       "    </tr>\n",
       "  </tbody>\n",
       "</table>\n",
       "</div>"
      ],
      "text/plain": [
       "  Name of sample  diamorphine  Caffeine   acetylcodeine\n",
       "0       KFS1A-B3    39.738208  10.554424       0.000000\n",
       "1       KFS1B-B4    38.217061  10.101954       0.000000\n",
       "2       KFS2A-A1    47.192481   0.000000      37.866534\n",
       "3       KFS2B-A3    48.521546   0.000000      37.858052\n",
       "4       KFS2C-A3    49.760126   0.000000      37.867248"
      ]
     },
     "execution_count": 58,
     "metadata": {},
     "output_type": "execute_result"
    }
   ],
   "source": [
    "df = pd.read_excel(\"2ndbatch.xlsx\")\n",
    "df.head()"
   ]
  },
  {
   "cell_type": "code",
   "execution_count": 56,
   "id": "90658bd5",
   "metadata": {},
   "outputs": [
    {
     "data": {
      "text/plain": [
       "(18, 4)"
      ]
     },
     "execution_count": 56,
     "metadata": {},
     "output_type": "execute_result"
    }
   ],
   "source": [
    "df.shape"
   ]
  },
  {
   "cell_type": "code",
   "execution_count": 54,
   "id": "7c8308d3",
   "metadata": {
    "scrolled": true
   },
   "outputs": [
    {
     "data": {
      "text/html": [
       "<div>\n",
       "<style scoped>\n",
       "    .dataframe tbody tr th:only-of-type {\n",
       "        vertical-align: middle;\n",
       "    }\n",
       "\n",
       "    .dataframe tbody tr th {\n",
       "        vertical-align: top;\n",
       "    }\n",
       "\n",
       "    .dataframe thead th {\n",
       "        text-align: right;\n",
       "    }\n",
       "</style>\n",
       "<table border=\"1\" class=\"dataframe\">\n",
       "  <thead>\n",
       "    <tr style=\"text-align: right;\">\n",
       "      <th></th>\n",
       "      <th>diamorphine</th>\n",
       "      <th>Caffeine</th>\n",
       "      <th>acetylcodeine</th>\n",
       "    </tr>\n",
       "  </thead>\n",
       "  <tbody>\n",
       "    <tr>\n",
       "      <th>count</th>\n",
       "      <td>18.000000</td>\n",
       "      <td>18.000000</td>\n",
       "      <td>18.000000</td>\n",
       "    </tr>\n",
       "    <tr>\n",
       "      <th>mean</th>\n",
       "      <td>40.787211</td>\n",
       "      <td>4.093960</td>\n",
       "      <td>33.644655</td>\n",
       "    </tr>\n",
       "    <tr>\n",
       "      <th>std</th>\n",
       "      <td>5.249593</td>\n",
       "      <td>5.382883</td>\n",
       "      <td>12.240045</td>\n",
       "    </tr>\n",
       "    <tr>\n",
       "      <th>min</th>\n",
       "      <td>32.216074</td>\n",
       "      <td>0.000000</td>\n",
       "      <td>0.000000</td>\n",
       "    </tr>\n",
       "    <tr>\n",
       "      <th>25%</th>\n",
       "      <td>37.243554</td>\n",
       "      <td>0.000000</td>\n",
       "      <td>37.840905</td>\n",
       "    </tr>\n",
       "    <tr>\n",
       "      <th>50%</th>\n",
       "      <td>39.788035</td>\n",
       "      <td>0.000000</td>\n",
       "      <td>37.843562</td>\n",
       "    </tr>\n",
       "    <tr>\n",
       "      <th>75%</th>\n",
       "      <td>44.834825</td>\n",
       "      <td>9.527000</td>\n",
       "      <td>37.859009</td>\n",
       "    </tr>\n",
       "    <tr>\n",
       "      <th>max</th>\n",
       "      <td>49.760126</td>\n",
       "      <td>14.255055</td>\n",
       "      <td>37.867248</td>\n",
       "    </tr>\n",
       "  </tbody>\n",
       "</table>\n",
       "</div>"
      ],
      "text/plain": [
       "       diamorphine  Caffeine   acetylcodeine\n",
       "count    18.000000  18.000000      18.000000\n",
       "mean     40.787211   4.093960      33.644655\n",
       "std       5.249593   5.382883      12.240045\n",
       "min      32.216074   0.000000       0.000000\n",
       "25%      37.243554   0.000000      37.840905\n",
       "50%      39.788035   0.000000      37.843562\n",
       "75%      44.834825   9.527000      37.859009\n",
       "max      49.760126  14.255055      37.867248"
      ]
     },
     "execution_count": 54,
     "metadata": {},
     "output_type": "execute_result"
    }
   ],
   "source": [
    "# statistical analysis\n",
    "df.describe()"
   ]
  },
  {
   "cell_type": "code",
   "execution_count": 153,
   "id": "b2069c14",
   "metadata": {
    "scrolled": false
   },
   "outputs": [
    {
     "data": {
      "image/png": "[encoded data removed]",
      "text/plain": [
       "<Figure size 576x432 with 1 Axes>"
      ]
     },
     "metadata": {},
     "output_type": "display_data"
    }
   ],
   "source": [
    "# Caffeine is not readable as a result of nan fields and will be excluded in the plot\n",
    "# cluster analysis using scatterplot\n",
    "plt.figure(figsize=(8,6))\n",
    "sns.scatterplot(data=df, x='diamorphine', y='acetylcodeine')\n",
    "plt.show()"
   ]
  },
  {
   "cell_type": "code",
   "execution_count": 73,
   "id": "1bde0424",
   "metadata": {},
   "outputs": [],
   "source": [
    "# Cluster analysis using KMeans\n",
    "from sklearn.cluster import KMeans"
   ]
  },
  {
   "cell_type": "code",
   "execution_count": 92,
   "id": "d12ea428",
   "metadata": {},
   "outputs": [],
   "source": [
    "variables = df[['diamorphine', 'acetylcodeine',]]"
   ]
  },
  {
   "cell_type": "code",
   "execution_count": 115,
   "id": "1f9338e5",
   "metadata": {},
   "outputs": [],
   "source": [
    "model = KMeans(n_clusters=3)"
   ]
  },
  {
   "cell_type": "code",
   "execution_count": 116,
   "id": "9afac5b5",
   "metadata": {},
   "outputs": [
    {
     "data": {
      "text/plain": [
       "KMeans(n_clusters=3)"
      ]
     },
     "execution_count": 116,
     "metadata": {},
     "output_type": "execute_result"
    }
   ],
   "source": [
    "model.fit(variables)"
   ]
  },
  {
   "cell_type": "code",
   "execution_count": 117,
   "id": "94e6dce8",
   "metadata": {},
   "outputs": [],
   "source": [
    "pred = model.predict(variables)"
   ]
  },
  {
   "cell_type": "code",
   "execution_count": 118,
   "id": "dee448b7",
   "metadata": {},
   "outputs": [],
   "source": [
    "df['clusters'] = pred"
   ]
  },
  {
   "cell_type": "code",
   "execution_count": 120,
   "id": "9efe3d76",
   "metadata": {},
   "outputs": [
    {
     "data": {
      "text/html": [
       "<div>\n",
       "<style scoped>\n",
       "    .dataframe tbody tr th:only-of-type {\n",
       "        vertical-align: middle;\n",
       "    }\n",
       "\n",
       "    .dataframe tbody tr th {\n",
       "        vertical-align: top;\n",
       "    }\n",
       "\n",
       "    .dataframe thead th {\n",
       "        text-align: right;\n",
       "    }\n",
       "</style>\n",
       "<table border=\"1\" class=\"dataframe\">\n",
       "  <thead>\n",
       "    <tr style=\"text-align: right;\">\n",
       "      <th></th>\n",
       "      <th>Name of sample</th>\n",
       "      <th>diamorphine</th>\n",
       "      <th>Caffeine</th>\n",
       "      <th>acetylcodeine</th>\n",
       "      <th>clusters</th>\n",
       "    </tr>\n",
       "  </thead>\n",
       "  <tbody>\n",
       "    <tr>\n",
       "      <th>0</th>\n",
       "      <td>KFS1A-B3</td>\n",
       "      <td>39.738208</td>\n",
       "      <td>10.554424</td>\n",
       "      <td>0.000000</td>\n",
       "      <td>1</td>\n",
       "    </tr>\n",
       "    <tr>\n",
       "      <th>1</th>\n",
       "      <td>KFS1B-B4</td>\n",
       "      <td>38.217061</td>\n",
       "      <td>10.101954</td>\n",
       "      <td>0.000000</td>\n",
       "      <td>1</td>\n",
       "    </tr>\n",
       "    <tr>\n",
       "      <th>2</th>\n",
       "      <td>KFS2A-A1</td>\n",
       "      <td>47.192481</td>\n",
       "      <td>0.000000</td>\n",
       "      <td>37.866534</td>\n",
       "      <td>2</td>\n",
       "    </tr>\n",
       "    <tr>\n",
       "      <th>3</th>\n",
       "      <td>KFS2B-A3</td>\n",
       "      <td>48.521546</td>\n",
       "      <td>0.000000</td>\n",
       "      <td>37.858052</td>\n",
       "      <td>2</td>\n",
       "    </tr>\n",
       "    <tr>\n",
       "      <th>4</th>\n",
       "      <td>KFS2C-A3</td>\n",
       "      <td>49.760126</td>\n",
       "      <td>0.000000</td>\n",
       "      <td>37.867248</td>\n",
       "      <td>2</td>\n",
       "    </tr>\n",
       "    <tr>\n",
       "      <th>5</th>\n",
       "      <td>KFS3-B</td>\n",
       "      <td>44.602990</td>\n",
       "      <td>0.000000</td>\n",
       "      <td>37.863548</td>\n",
       "      <td>2</td>\n",
       "    </tr>\n",
       "    <tr>\n",
       "      <th>6</th>\n",
       "      <td>KFS4-B1</td>\n",
       "      <td>44.912104</td>\n",
       "      <td>0.000000</td>\n",
       "      <td>37.859328</td>\n",
       "      <td>2</td>\n",
       "    </tr>\n",
       "    <tr>\n",
       "      <th>7</th>\n",
       "      <td>FS5-128</td>\n",
       "      <td>48.153801</td>\n",
       "      <td>0.000000</td>\n",
       "      <td>37.863933</td>\n",
       "      <td>2</td>\n",
       "    </tr>\n",
       "    <tr>\n",
       "      <th>8</th>\n",
       "      <td>FS6-23</td>\n",
       "      <td>34.443647</td>\n",
       "      <td>14.255055</td>\n",
       "      <td>37.837626</td>\n",
       "      <td>0</td>\n",
       "    </tr>\n",
       "    <tr>\n",
       "      <th>9</th>\n",
       "      <td>FS7-1210</td>\n",
       "      <td>41.010952</td>\n",
       "      <td>9.561693</td>\n",
       "      <td>37.843443</td>\n",
       "      <td>0</td>\n",
       "    </tr>\n",
       "    <tr>\n",
       "      <th>10</th>\n",
       "      <td>FS8-126</td>\n",
       "      <td>39.837863</td>\n",
       "      <td>10.756823</td>\n",
       "      <td>37.843682</td>\n",
       "      <td>0</td>\n",
       "    </tr>\n",
       "    <tr>\n",
       "      <th>11</th>\n",
       "      <td>FS9-21</td>\n",
       "      <td>40.728251</td>\n",
       "      <td>0.000000</td>\n",
       "      <td>37.848599</td>\n",
       "      <td>0</td>\n",
       "    </tr>\n",
       "    <tr>\n",
       "      <th>12</th>\n",
       "      <td>FS10-124</td>\n",
       "      <td>38.027098</td>\n",
       "      <td>9.422922</td>\n",
       "      <td>37.841408</td>\n",
       "      <td>0</td>\n",
       "    </tr>\n",
       "    <tr>\n",
       "      <th>13</th>\n",
       "      <td>FS11-25</td>\n",
       "      <td>37.013567</td>\n",
       "      <td>0.000000</td>\n",
       "      <td>37.841997</td>\n",
       "      <td>0</td>\n",
       "    </tr>\n",
       "    <tr>\n",
       "      <th>14</th>\n",
       "      <td>FS12-29</td>\n",
       "      <td>36.862826</td>\n",
       "      <td>0.000000</td>\n",
       "      <td>37.842380</td>\n",
       "      <td>0</td>\n",
       "    </tr>\n",
       "    <tr>\n",
       "      <th>15</th>\n",
       "      <td>FS13-27</td>\n",
       "      <td>37.933512</td>\n",
       "      <td>0.000000</td>\n",
       "      <td>37.845420</td>\n",
       "      <td>0</td>\n",
       "    </tr>\n",
       "    <tr>\n",
       "      <th>16</th>\n",
       "      <td>FS14-122</td>\n",
       "      <td>34.997687</td>\n",
       "      <td>9.038418</td>\n",
       "      <td>37.840737</td>\n",
       "      <td>0</td>\n",
       "    </tr>\n",
       "    <tr>\n",
       "      <th>17</th>\n",
       "      <td>LGC-15</td>\n",
       "      <td>32.216074</td>\n",
       "      <td>0.000000</td>\n",
       "      <td>37.839862</td>\n",
       "      <td>0</td>\n",
       "    </tr>\n",
       "  </tbody>\n",
       "</table>\n",
       "</div>"
      ],
      "text/plain": [
       "   Name of sample  diamorphine  Caffeine   acetylcodeine  clusters\n",
       "0        KFS1A-B3    39.738208  10.554424       0.000000         1\n",
       "1        KFS1B-B4    38.217061  10.101954       0.000000         1\n",
       "2        KFS2A-A1    47.192481   0.000000      37.866534         2\n",
       "3        KFS2B-A3    48.521546   0.000000      37.858052         2\n",
       "4        KFS2C-A3    49.760126   0.000000      37.867248         2\n",
       "5          KFS3-B    44.602990   0.000000      37.863548         2\n",
       "6         KFS4-B1    44.912104   0.000000      37.859328         2\n",
       "7         FS5-128    48.153801   0.000000      37.863933         2\n",
       "8          FS6-23    34.443647  14.255055      37.837626         0\n",
       "9        FS7-1210    41.010952   9.561693      37.843443         0\n",
       "10        FS8-126    39.837863  10.756823      37.843682         0\n",
       "11         FS9-21    40.728251   0.000000      37.848599         0\n",
       "12       FS10-124    38.027098   9.422922      37.841408         0\n",
       "13        FS11-25    37.013567   0.000000      37.841997         0\n",
       "14        FS12-29    36.862826   0.000000      37.842380         0\n",
       "15        FS13-27    37.933512   0.000000      37.845420         0\n",
       "16       FS14-122    34.997687   9.038418      37.840737         0\n",
       "17         LGC-15    32.216074   0.000000      37.839862         0"
      ]
     },
     "execution_count": 120,
     "metadata": {},
     "output_type": "execute_result"
    }
   ],
   "source": [
    "df.head(18)"
   ]
  },
  {
   "cell_type": "code",
   "execution_count": 127,
   "id": "5d2e75f7",
   "metadata": {},
   "outputs": [
    {
     "data": {
      "text/html": [
       "<div>\n",
       "<style scoped>\n",
       "    .dataframe tbody tr th:only-of-type {\n",
       "        vertical-align: middle;\n",
       "    }\n",
       "\n",
       "    .dataframe tbody tr th {\n",
       "        vertical-align: top;\n",
       "    }\n",
       "\n",
       "    .dataframe thead th {\n",
       "        text-align: right;\n",
       "    }\n",
       "</style>\n",
       "<table border=\"1\" class=\"dataframe\">\n",
       "  <thead>\n",
       "    <tr style=\"text-align: right;\">\n",
       "      <th></th>\n",
       "      <th>diamorphine</th>\n",
       "      <th>acetylcodeine</th>\n",
       "      <th>clusters</th>\n",
       "    </tr>\n",
       "  </thead>\n",
       "  <tbody>\n",
       "    <tr>\n",
       "      <th>0</th>\n",
       "      <td>39.738208</td>\n",
       "      <td>0.000000</td>\n",
       "      <td>1</td>\n",
       "    </tr>\n",
       "    <tr>\n",
       "      <th>1</th>\n",
       "      <td>38.217061</td>\n",
       "      <td>0.000000</td>\n",
       "      <td>1</td>\n",
       "    </tr>\n",
       "    <tr>\n",
       "      <th>2</th>\n",
       "      <td>47.192481</td>\n",
       "      <td>37.866534</td>\n",
       "      <td>2</td>\n",
       "    </tr>\n",
       "    <tr>\n",
       "      <th>3</th>\n",
       "      <td>48.521546</td>\n",
       "      <td>37.858052</td>\n",
       "      <td>2</td>\n",
       "    </tr>\n",
       "    <tr>\n",
       "      <th>4</th>\n",
       "      <td>49.760126</td>\n",
       "      <td>37.867248</td>\n",
       "      <td>2</td>\n",
       "    </tr>\n",
       "    <tr>\n",
       "      <th>5</th>\n",
       "      <td>44.602990</td>\n",
       "      <td>37.863548</td>\n",
       "      <td>2</td>\n",
       "    </tr>\n",
       "    <tr>\n",
       "      <th>6</th>\n",
       "      <td>44.912104</td>\n",
       "      <td>37.859328</td>\n",
       "      <td>2</td>\n",
       "    </tr>\n",
       "    <tr>\n",
       "      <th>7</th>\n",
       "      <td>48.153801</td>\n",
       "      <td>37.863933</td>\n",
       "      <td>2</td>\n",
       "    </tr>\n",
       "    <tr>\n",
       "      <th>8</th>\n",
       "      <td>34.443647</td>\n",
       "      <td>37.837626</td>\n",
       "      <td>0</td>\n",
       "    </tr>\n",
       "    <tr>\n",
       "      <th>9</th>\n",
       "      <td>41.010952</td>\n",
       "      <td>37.843443</td>\n",
       "      <td>0</td>\n",
       "    </tr>\n",
       "    <tr>\n",
       "      <th>10</th>\n",
       "      <td>39.837863</td>\n",
       "      <td>37.843682</td>\n",
       "      <td>0</td>\n",
       "    </tr>\n",
       "    <tr>\n",
       "      <th>11</th>\n",
       "      <td>40.728251</td>\n",
       "      <td>37.848599</td>\n",
       "      <td>0</td>\n",
       "    </tr>\n",
       "    <tr>\n",
       "      <th>12</th>\n",
       "      <td>38.027098</td>\n",
       "      <td>37.841408</td>\n",
       "      <td>0</td>\n",
       "    </tr>\n",
       "    <tr>\n",
       "      <th>13</th>\n",
       "      <td>37.013567</td>\n",
       "      <td>37.841997</td>\n",
       "      <td>0</td>\n",
       "    </tr>\n",
       "    <tr>\n",
       "      <th>14</th>\n",
       "      <td>36.862826</td>\n",
       "      <td>37.842380</td>\n",
       "      <td>0</td>\n",
       "    </tr>\n",
       "    <tr>\n",
       "      <th>15</th>\n",
       "      <td>37.933512</td>\n",
       "      <td>37.845420</td>\n",
       "      <td>0</td>\n",
       "    </tr>\n",
       "    <tr>\n",
       "      <th>16</th>\n",
       "      <td>34.997687</td>\n",
       "      <td>37.840737</td>\n",
       "      <td>0</td>\n",
       "    </tr>\n",
       "    <tr>\n",
       "      <th>17</th>\n",
       "      <td>32.216074</td>\n",
       "      <td>37.839862</td>\n",
       "      <td>0</td>\n",
       "    </tr>\n",
       "  </tbody>\n",
       "</table>\n",
       "</div>"
      ],
      "text/plain": [
       "    diamorphine  acetylcodeine  clusters\n",
       "0     39.738208       0.000000         1\n",
       "1     38.217061       0.000000         1\n",
       "2     47.192481      37.866534         2\n",
       "3     48.521546      37.858052         2\n",
       "4     49.760126      37.867248         2\n",
       "5     44.602990      37.863548         2\n",
       "6     44.912104      37.859328         2\n",
       "7     48.153801      37.863933         2\n",
       "8     34.443647      37.837626         0\n",
       "9     41.010952      37.843443         0\n",
       "10    39.837863      37.843682         0\n",
       "11    40.728251      37.848599         0\n",
       "12    38.027098      37.841408         0\n",
       "13    37.013567      37.841997         0\n",
       "14    36.862826      37.842380         0\n",
       "15    37.933512      37.845420         0\n",
       "16    34.997687      37.840737         0\n",
       "17    32.216074      37.839862         0"
      ]
     },
     "execution_count": 127,
     "metadata": {},
     "output_type": "execute_result"
    }
   ],
   "source": [
    "df[['diamorphine', 'acetylcodeine', 'clusters']]"
   ]
  },
  {
   "cell_type": "code",
   "execution_count": 129,
   "id": "77f4aaba",
   "metadata": {},
   "outputs": [
    {
     "data": {
      "text/plain": [
       "<AxesSubplot:xlabel='clusters', ylabel='count'>"
      ]
     },
     "execution_count": 129,
     "metadata": {},
     "output_type": "execute_result"
    },
    {
     "data": {
      "image/png": "[encoded data removed]",
      "text/plain": [
       "<Figure size 432x288 with 1 Axes>"
      ]
     },
     "metadata": {},
     "output_type": "display_data"
    }
   ],
   "source": [
    "# cluster distribution \n",
    "sns.countplot(x='clusters', data=df)"
   ]
  },
  {
   "cell_type": "code",
   "execution_count": 155,
   "id": "280b4108",
   "metadata": {
    "scrolled": true
   },
   "outputs": [
    {
     "data": {
      "image/png": "[encoded data removed]",
      "text/plain": [
       "<Figure size 432x288 with 1 Axes>"
      ]
     },
     "metadata": {},
     "output_type": "display_data"
    }
   ],
   "source": [
    "\n",
    "plt.figure(figsize=(6,4))\n",
    "plt.title('clusters of substance use')\n",
    "sns.scatterplot(data=df, x='diamorphine', y='acetylcodeine', hue='clusters')\n",
    "plt.show()"
   ]
  },
  {
   "cell_type": "markdown",
   "id": "41ccb8d9",
   "metadata": {},
   "source": [
    "scatterplot indicates three clusters with color representation\n",
    "\n",
    "But two clusters are more obvious which is the clusters at the  top and the ones below.\n",
    "\n",
    "The acetylcodeine group at the top of the chart are well seperated from the diamorphine group below the chart.\n",
    "\n"
   ]
  },
  {
   "cell_type": "code",
   "execution_count": 141,
   "id": "c2bdad2a",
   "metadata": {},
   "outputs": [
    {
     "name": "stderr",
     "output_type": "stream",
     "text": [
      "C:\\Users\\ikech\\anaconda3\\lib\\site-packages\\sklearn\\cluster\\_kmeans.py:881: UserWarning: KMeans is known to have a memory leak on Windows with MKL, when there are less chunks than available threads. You can avoid it by setting the environment variable OMP_NUM_THREADS=1.\n",
      "  warnings.warn(\n"
     ]
    }
   ],
   "source": [
    "# Identifing optimal number of clusters\n",
    "sum_of_sqr_distance = []\n",
    "k_range = range(1,18)\n",
    "for k in k_range:\n",
    "    km_model = KMeans(n_clusters=k)\n",
    "    km_model.fit(variables)\n",
    "    sum_of_sqr_distance.append(km_model.inertia_)"
   ]
  },
  {
   "cell_type": "code",
   "execution_count": 147,
   "id": "21888399",
   "metadata": {
    "scrolled": true
   },
   "outputs": [
    {
     "data": {
      "text/plain": [
       "[3015.4079792142666,\n",
       " 461.1238251629621,\n",
       " 94.81919421407784,\n",
       " 44.652281681612315,\n",
       " 26.894373336573583,\n",
       " 10.77486617477568,\n",
       " 6.5928755621318285,\n",
       " 4.151553878158659,\n",
       " 2.994609386226154,\n",
       " 1.9086181419965578,\n",
       " 1.0342875829470586,\n",
       " 0.324627232217509,\n",
       " 0.17114217645443822,\n",
       " 0.10350652521481281,\n",
       " 0.05572182553455778,\n",
       " 0.015748634125076738,\n",
       " 0.0043871455275230255]"
      ]
     },
     "execution_count": 147,
     "metadata": {},
     "output_type": "execute_result"
    }
   ],
   "source": [
    "sum_of_sqr_distance"
   ]
  },
  {
   "cell_type": "code",
   "execution_count": 148,
   "id": "fb6665f3",
   "metadata": {},
   "outputs": [
    {
     "data": {
      "image/png": "[encoded data removed]",
      "text/plain": [
       "<Figure size 432x288 with 1 Axes>"
      ]
     },
     "metadata": {},
     "output_type": "display_data"
    }
   ],
   "source": [
    "# Use of elbow method to find the optimal number of clusters\n",
    "plt.plot(k_range, sum_of_sqr_distance) \n",
    "plt.xlabel('k-clusters') \n",
    "plt.ylabel('sum_SD') \n",
    "plt.title(\"Elbow plot for Optimal K\") \n",
    "plt.show()"
   ]
  },
  {
   "cell_type": "markdown",
   "id": "255f69a1",
   "metadata": {},
   "source": [
    "For the elbow method the elbow bend can be seen at 2 and 3 but more obvious at 2.\n",
    "\n",
    "Hence 2 clusters is optimal"
   ]
  }
 ],
 "metadata": {
  "kernelspec": {
   "display_name": "Python 3 (ipykernel)",
   "language": "python",
   "name": "python3"
  },
  "language_info": {
   "codemirror_mode": {
    "name": "ipython",
    "version": 3
   },
   "file_extension": ".py",
   "mimetype": "text/x-python",
   "name": "python",
   "nbconvert_exporter": "python",
   "pygments_lexer": "ipython3",
   "version": "3.9.7"
  }
 },
 "nbformat": 4,
 "nbformat_minor": 5
}
